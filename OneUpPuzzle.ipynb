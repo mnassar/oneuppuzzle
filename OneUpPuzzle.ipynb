{
  "nbformat": 4,
  "nbformat_minor": 0,
  "metadata": {
    "colab": {
      "provenance": [],
      "include_colab_link": true
    },
    "kernelspec": {
      "name": "python3",
      "display_name": "Python 3"
    },
    "language_info": {
      "name": "python"
    }
  },
  "cells": [
    {
      "cell_type": "markdown",
      "metadata": {
        "id": "view-in-github",
        "colab_type": "text"
      },
      "source": [
        "<a href=\"https://colab.research.google.com/github/mnassar/oneuppuzzle/blob/main/OneUpPuzzle.ipynb\" target=\"_parent\"><img src=\"https://colab.research.google.com/assets/colab-badge.svg\" alt=\"Open In Colab\"/></a>"
      ]
    },
    {
      "cell_type": "markdown",
      "source": [
        "# Solve any OneUp Puzzle\n",
        "\n",
        "## @author: mohamad nassar\n",
        "\n",
        "## Nov 2024\n",
        "\n",
        "#### game website: https://www.oneuppuzzle.com/\n"
      ],
      "metadata": {
        "id": "cIPLMC1LQqnS"
      }
    },
    {
      "cell_type": "markdown",
      "source": [
        "<img src=\"https://drive.google.com/uc?id=1QB30G2AB9wemxYovRTDGA3Nj_lP6B25e\" alt=\"drawing\" width=\"200\"/>"
      ],
      "metadata": {
        "id": "bjai5MPPQIsw"
      }
    },
    {
      "cell_type": "code",
      "source": [
        "!curl -L  https://drive.google.com/uc?id=1QB30G2AB9wemxYovRTDGA3Nj_lP6B25e  --output board216.png\n",
        "!curl -L  https://drive.google.com/uc?id=1iP2lTATQZqT_M30cfcQd4yVIjfFGhNYm  --output board230.png\n",
        "\n"
      ],
      "metadata": {
        "colab": {
          "base_uri": "https://localhost:8080/"
        },
        "id": "fz77vabEZYZv",
        "outputId": "3dd0b870-a9f1-4e24-a7fc-dbec6c322f3c"
      },
      "execution_count": 156,
      "outputs": [
        {
          "output_type": "stream",
          "name": "stdout",
          "text": [
            "  % Total    % Received % Xferd  Average Speed   Time    Time     Time  Current\n",
            "                                 Dload  Upload   Total   Spent    Left  Speed\n",
            "  0     0    0     0    0     0      0      0 --:--:-- --:--:-- --:--:--     0\n",
            "100  105k  100  105k    0     0  45489      0  0:00:02  0:00:02 --:--:--   97k\n",
            "  % Total    % Received % Xferd  Average Speed   Time    Time     Time  Current\n",
            "                                 Dload  Upload   Total   Spent    Left  Speed\n",
            "  0     0    0     0    0     0      0      0 --:--:-- --:--:-- --:--:--     0\n",
            "100  110k  100  110k    0     0  56561      0  0:00:02  0:00:02 --:--:--  155k\n"
          ]
        }
      ]
    },
    {
      "cell_type": "code",
      "source": [
        "import cv2\n",
        "from matplotlib import pyplot as plt\n",
        "# img_color = cv2.imread('board216.png')\n",
        "img_color = cv2.imread('board230.png')\n",
        "plt.imshow(img_color)\n",
        "plt.axis(\"off\")\n",
        "plt.show()"
      ],
      "metadata": {
        "colab": {
          "base_uri": "https://localhost:8080/",
          "height": 406
        },
        "id": "fOsT4qw8U7Pt",
        "outputId": "9cfabf93-9c01-417d-b095-de13042ecc18"
      },
      "execution_count": 157,
      "outputs": [
        {
          "output_type": "display_data",
          "data": {
            "text/plain": [
              "<Figure size 640x480 with 1 Axes>"
            ],
            "image/png": "[encoded data removed]"
          },
          "metadata": {}
        }
      ]
    },
    {
      "cell_type": "code",
      "source": [
        "#game strings\n",
        "# r for row, w for wall, x for unknown\n",
        "# gamestr_h = \"216xxxrxxwxxxxr4xxxxxrxxxwxx2rxxxxx1rxxxxx6\"\n",
        "# c for col, w for wall, x for unknown\n",
        "# gamestr_v = \"2x4xxxc1xxwxxxc6xxxxxcxxxxxxcxxxxwxxcxxx216\"\n",
        "\n",
        "gamestr_h = \"xx23bxxrxxxxxx6rxxxxwxxxrxxxxxxwxrxxxx6xxr2xxxxxxrxxxwxxxx\"\n",
        "gamestr_v = \"xxxxx2xcxxxxxxxc2xxxwxwxxc3xxwxxxxcbxxx6xxcxxxxwxxxcx6xxxxx\""
      ],
      "metadata": {
        "id": "BV6xkqARR0QL"
      },
      "execution_count": 158,
      "outputs": []
    },
    {
      "cell_type": "code",
      "source": [
        "\n",
        "\n",
        "# parse the string\n",
        "board = {}\n",
        "i,j,segh,segv = 0,0,0,0\n",
        "for c in gamestr_h:\n",
        "  if c == 'x':\n",
        "    board[(i,j,segh,segv)] = -1\n",
        "    j += 1\n",
        "  elif c == 'r':\n",
        "    i += 1\n",
        "    j = 0\n",
        "    segh = 0\n",
        "  elif c == 'w':\n",
        "    segh += 1\n",
        "  elif c == 'b':\n",
        "    segh += 1\n",
        "    j += 1\n",
        "  else:\n",
        "    board[(i,j,segh,segv)] = int(c)\n",
        "    j += 1\n",
        "nb_rows = i + 1\n",
        "# correction for vertical walls\n",
        "i,j,segh,segv = 0,0,0,0\n",
        "for c in gamestr_v:\n",
        "  if c == 'x':\n",
        "    board[(i,j,segh,segv)] = -1\n",
        "    i += 1\n",
        "  elif c == 'c':\n",
        "    j += 1\n",
        "    i = 0\n",
        "    segv = 0\n",
        "  elif c == 'w':\n",
        "    segv += 1\n",
        "  elif c == 'b':\n",
        "    segv += 1\n",
        "    i += 1\n",
        "  else:\n",
        "    board[(i,j,segh,segv)] = int(c)\n",
        "    i += 1\n",
        "nb_cols = j + 1\n",
        "print (nb_rows, nb_cols)\n",
        "# merge using max seg\n",
        "for i in range(nb_rows):\n",
        "  for j in range(nb_cols):\n",
        "    groupby = [ k for k in board.keys() if k[0] == i and k[1] == j ]\n",
        "    if len(groupby) == 0:\n",
        "      continue\n",
        "    # print (groupby)\n",
        "    max_segh = max ( k[2] for k in groupby )\n",
        "    max_segv = max ( k[3] for k in groupby )\n",
        "    t = board[groupby[0]]\n",
        "    for k in groupby:\n",
        "      del board[k]\n",
        "    board[(i, j, max_segh, max_segv)] = t\n",
        "\n",
        "\n",
        "for k in sorted(board.keys()):\n",
        "  print ( k, board[k] )\n",
        "\n"
      ],
      "metadata": {
        "colab": {
          "base_uri": "https://localhost:8080/"
        },
        "id": "IZlUaysxhEF9",
        "outputId": "704e6c7d-ce01-4280-a1fe-fac42ce9483b"
      },
      "execution_count": 159,
      "outputs": [
        {
          "output_type": "stream",
          "name": "stdout",
          "text": [
            "7 7\n",
            "(0, 0, 0, 0) -1\n",
            "(0, 1, 0, 0) -1\n",
            "(0, 2, 0, 0) 2\n",
            "(0, 3, 0, 0) 3\n",
            "(0, 5, 1, 0) -1\n",
            "(0, 6, 1, 0) -1\n",
            "(1, 0, 0, 0) -1\n",
            "(1, 1, 0, 0) -1\n",
            "(1, 2, 0, 0) -1\n",
            "(1, 3, 0, 0) -1\n",
            "(1, 4, 0, 1) -1\n",
            "(1, 5, 0, 0) -1\n",
            "(1, 6, 0, 0) 6\n",
            "(2, 0, 0, 0) -1\n",
            "(2, 1, 0, 0) -1\n",
            "(2, 2, 0, 0) -1\n",
            "(2, 3, 0, 0) -1\n",
            "(2, 4, 1, 1) -1\n",
            "(2, 5, 1, 0) -1\n",
            "(2, 6, 1, 0) -1\n",
            "(3, 0, 0, 0) -1\n",
            "(3, 1, 0, 0) -1\n",
            "(3, 2, 0, 0) -1\n",
            "(3, 3, 0, 1) -1\n",
            "(3, 4, 0, 1) -1\n",
            "(3, 5, 0, 0) -1\n",
            "(3, 6, 1, 0) -1\n",
            "(4, 0, 0, 0) -1\n",
            "(4, 1, 0, 0) -1\n",
            "(4, 2, 0, 1) -1\n",
            "(4, 3, 0, 1) -1\n",
            "(4, 4, 0, 1) 6\n",
            "(4, 5, 0, 1) -1\n",
            "(4, 6, 0, 0) -1\n",
            "(5, 0, 0, 0) 2\n",
            "(5, 1, 0, 0) -1\n",
            "(5, 2, 0, 2) -1\n",
            "(5, 3, 0, 1) -1\n",
            "(5, 4, 0, 1) -1\n",
            "(5, 5, 0, 1) -1\n",
            "(5, 6, 0, 0) -1\n",
            "(6, 0, 0, 0) -1\n",
            "(6, 1, 0, 0) -1\n",
            "(6, 2, 0, 2) -1\n",
            "(6, 3, 1, 1) -1\n",
            "(6, 4, 1, 1) -1\n",
            "(6, 5, 1, 1) -1\n",
            "(6, 6, 1, 0) -1\n"
          ]
        }
      ]
    },
    {
      "cell_type": "code",
      "source": [
        "# plot the board\n",
        "#game strings\n",
        "# r for row, w for wall, x for unknown\n",
        "# gamestr_h = \"216xxxrxxwxxxxr4xxxxxrxxxwxx2rxxxxx1rxxxxx6\"\n",
        "# # c for col, w for wall, x for unknown\n",
        "# gamestr_v = \"2x4xxxc1xxwxxxc6xxxxxcxxxxxxcxxxxwxxcxxx216\"\n",
        "\n",
        "\n",
        "# game_str = \"\"\n",
        "# for c in gamestr_h:\n",
        "#   if c == 'r':\n",
        "#     game_str += '\\n'\n",
        "#   elif c == 'w':\n",
        "#     game_str += '\\b|'\n",
        "#   else:\n",
        "#     game_str += c + ' '\n",
        "\n",
        "# for c in gamestr_v:\n",
        "#   if c == 'c':\n",
        "\n",
        "# print (game_str)\n",
        "\n",
        "seg_h = 0\n",
        "seg_v = 0\n",
        "for i in range(nb_rows):\n",
        "  line = \"\"\n",
        "  last = 0\n",
        "  for j in range(nb_cols):\n",
        "    # check if there is a wall down side\n",
        "    candidate = [ k for k in board.keys() if k[0] == i and k[1] == j ]\n",
        "    if len(candidate) == 0:\n",
        "       print('b', end=' ')\n",
        "       continue\n",
        "    else:\n",
        "       candidate = candidate[0]\n",
        "\n",
        "    down = [ k for k in board.keys() if k[0] == i + 1 and k[1] == j and k[3] == candidate[3] + 1 ]\n",
        "    if len(down) > 0:\n",
        "      if last == 0:\n",
        "        line = \"\\n\" + \" \" * (2*j) + \"-\"\n",
        "        last = j\n",
        "      else:\n",
        "        line +=  \" \" * (2*(j-last) - 1) + \"-\"\n",
        "    if candidate[2] != seg_h:\n",
        "      seg_h += 1\n",
        "      print (\"\\b|\" , end = '')\n",
        "    if board[candidate] == -1:\n",
        "      print ('x', end=\" \")\n",
        "    else:\n",
        "      print (board[candidate], end=\" \")\n",
        "\n",
        "  print(line)\n",
        "  seg_h = 0\n",
        "  last = 0\n",
        "\n"
      ],
      "metadata": {
        "colab": {
          "base_uri": "https://localhost:8080/"
        },
        "id": "xfp_UXxb1_DD",
        "outputId": "f2426b90-48d7-4ea3-f5ca-1c65cd540e59"
      },
      "execution_count": 160,
      "outputs": [
        {
          "output_type": "stream",
          "name": "stdout",
          "text": [
            "x x 2 3 b \b|x x \n",
            "x x x x x x 6 \n",
            "x x x x \b|x x x \n",
            "      -\n",
            "x x x x x x \b|x \n",
            "    -     -\n",
            "x x x x 6 x x \n",
            "    -\n",
            "2 x x x x x x \n",
            "x x x \b|x x x x \n"
          ]
        }
      ]
    },
    {
      "cell_type": "markdown",
      "source": [],
      "metadata": {
        "id": "a1HWiMSpGPA0"
      }
    },
    {
      "cell_type": "code",
      "source": [
        "# data representation\n",
        "# encode the board in 4 dimensions: r,c,segh,segv\n",
        "# I am going to represent empty square by -1\n",
        "\n",
        "# bb = {} # for board 216\n",
        "\n",
        "# bb[(0,0,0,0)] = 2\n",
        "# bb[(0,1,0,0)] = 1\n",
        "# bb[(0,2,0,0)] = 6\n",
        "# bb[(0,3,0,0)] = -1\n",
        "# bb[(0,4,0,0)] = -1\n",
        "# bb[(0,5,0,0)] = -1\n",
        "\n",
        "# bb[(1,0,0,0)] = -1\n",
        "# bb[(1,1,0,0)] = -1\n",
        "# # implicit encoding of a wall\n",
        "# bb[(1,2,1,0)] = -1\n",
        "# bb[(1,3,1,0)] = -1\n",
        "# bb[(1,4,1,0)] = -1\n",
        "# bb[(1,5,1,0)] = -1\n",
        "\n",
        "# bb[(2,0,0,0)] = 4\n",
        "# bb[(2,1,0,0)] = -1\n",
        "# bb[(2,2,0,0)] = -1\n",
        "# bb[(2,3,0,0)] = -1\n",
        "# bb[(2,4,0,0)] = -1\n",
        "# bb[(2,5,0,0)] = -1\n",
        "\n",
        "# bb[(3,0,0,0)] = -1\n",
        "# bb[(3,1,0,1)] = -1\n",
        "# bb[(3,2,0,0)] = -1\n",
        "# bb[(3,3,1,0)] = -1\n",
        "# bb[(3,4,1,0)] = -1\n",
        "# bb[(3,5,1,0)] = 2\n",
        "\n",
        "# bb[(4,0,0,0)] = -1\n",
        "# bb[(4,1,0,1)] = -1\n",
        "# bb[(4,2,0,0)] = -1\n",
        "# bb[(4,3,0,0)] = -1\n",
        "# bb[(4,4,0,1)] = -1\n",
        "# bb[(4,5,0,0)] = 1\n",
        "\n",
        "# bb[(5,0,0,0)] = -1\n",
        "# bb[(5,1,0,1)] = -1\n",
        "# bb[(5,2,0,0)] = -1\n",
        "# bb[(5,3,0,0)] = -1\n",
        "# bb[(5,4,0,1)] = -1\n",
        "# bb[(5,5,0,0)] = 6\n",
        "# # verify our board extraction is correct\n",
        "# bb == board"
      ],
      "metadata": {
        "id": "RRhxnfzvPOh6"
      },
      "execution_count": 161,
      "outputs": []
    },
    {
      "cell_type": "code",
      "source": [],
      "metadata": {
        "id": "_QAT_cCgtucx"
      },
      "execution_count": 161,
      "outputs": []
    },
    {
      "cell_type": "code",
      "source": [
        "# draw the board\n"
      ],
      "metadata": {
        "id": "JnxOpDnDxB1y"
      },
      "execution_count": 162,
      "outputs": []
    },
    {
      "cell_type": "code",
      "source": [
        "# domain extraction\n",
        "\n",
        "# to figure out the domain of a square,\n",
        "## look at (row, segh) / how many squares have same row and same segh\n",
        "## look at (col, segv) / how many squares have same col and same segv\n",
        "\n",
        "domain = {}\n",
        "\n",
        "# segment horizontally\n",
        "d_row_segh = {} # key is row, segh and the value is the range\n",
        "\n",
        "for r in range(nb_rows):\n",
        "  # give me all the entries in board where row = r\n",
        "  # count all the entries with segh = 0\n",
        "  # increase segh\n",
        "  counter = 0\n",
        "  segh = 0\n",
        "  for key in board.keys():\n",
        "    if key[0] == r:\n",
        "      if key[2] != segh:\n",
        "        d_row_segh[(r, segh)] = counter\n",
        "        segh += 1\n",
        "        counter = 0\n",
        "      if key[0] == r and key[2] == segh:\n",
        "        counter += 1\n",
        "  d_row_segh[(r, segh)] = counter\n",
        "\n",
        "\n",
        "print(d_row_segh)\n"
      ],
      "metadata": {
        "id": "WSV5sugulp-B",
        "colab": {
          "base_uri": "https://localhost:8080/"
        },
        "outputId": "7778ba24-292f-4229-a6f0-80ced0b57a19"
      },
      "execution_count": 163,
      "outputs": [
        {
          "output_type": "stream",
          "name": "stdout",
          "text": [
            "{(0, 0): 4, (0, 1): 2, (1, 0): 7, (2, 0): 4, (2, 1): 3, (3, 0): 6, (3, 1): 1, (4, 0): 7, (5, 0): 7, (6, 0): 3, (6, 1): 4}\n"
          ]
        }
      ]
    },
    {
      "cell_type": "code",
      "source": [
        "# need to intersect with d_row_segv\n",
        "d_col_segv = {}\n",
        "\n",
        "for c in range(nb_cols):\n",
        "  # give me all the entries in board where col = c\n",
        "  # count all the entries with segv = 0\n",
        "  # increase segv\n",
        "  counter = 0\n",
        "  segv = 0\n",
        "  for key in board.keys():\n",
        "    if key[1] == c:\n",
        "      if key[3] != segv:\n",
        "        d_col_segv[(c, segv)] = counter\n",
        "        segv += 1\n",
        "        counter = 0\n",
        "      if key[1] == c and key[3] == segv:\n",
        "        counter += 1\n",
        "  d_col_segv[(c, segv)] = counter\n",
        "\n",
        "print(d_col_segv)\n",
        "\n"
      ],
      "metadata": {
        "colab": {
          "base_uri": "https://localhost:8080/"
        },
        "id": "n7zW7BKyLD47",
        "outputId": "b29deddf-d421-4675-a06c-a62176c19ca3"
      },
      "execution_count": 164,
      "outputs": [
        {
          "output_type": "stream",
          "name": "stdout",
          "text": [
            "{(0, 0): 7, (1, 0): 7, (2, 0): 4, (2, 1): 1, (2, 2): 2, (3, 0): 3, (3, 1): 4, (4, 0): 0, (4, 1): 6, (5, 0): 4, (5, 1): 3, (6, 0): 7}\n"
          ]
        }
      ]
    },
    {
      "cell_type": "code",
      "source": [
        "# compute domains\n",
        "for k in board.keys():\n",
        "  # print (  d_row_segh[(k[0], k[2])] , d_col_segv[(k[1], k[3])] )\n",
        "  if board[k] != -1:\n",
        "    domain[k] = set([board[k]])\n",
        "  else:\n",
        "\n",
        "    domain[k] = set(range( 1, min ( d_row_segh[(k[0], k[2])] , d_col_segv[(k[1], k[3])] ) + 1 ) )\n",
        "\n",
        "# for k in sorted ( domain.keys() ) :\n",
        "#   print(k, domain[k])\n"
      ],
      "metadata": {
        "id": "VSgdt39OLMXv"
      },
      "execution_count": 165,
      "outputs": []
    },
    {
      "cell_type": "code",
      "source": [
        "# forward propagation\n",
        "# remove every singleton from the entries sharing same r,segh or c,segv\n",
        "\n",
        "def forward_propagate(domain):\n",
        "  op = 0\n",
        "  for k in domain.keys():\n",
        "    if len(domain[k]) == 1:\n",
        "      nei = [ k1 for k1 in domain.keys() if  ( (k != k1) and ((k[0] == k1[0] and k[2] == k1[2]) or (k[1] == k1[1] and k[3] == k1[3])) ) ]\n",
        "\n",
        "      for l in nei:\n",
        "\n",
        "        if (domain[k].issubset(domain[l])):\n",
        "\n",
        "          domain[l] -= domain[k]\n",
        "          # print (l, k, domain[l])\n",
        "          op += 1\n",
        "  return op\n",
        "\n",
        "op = 1\n",
        "cnt = 0\n",
        "while op != 0:\n",
        "  op = forward_propagate(domain)\n",
        "cnt += 1\n",
        "# print (cnt)\n",
        "# for k in sorted ( domain.keys() ) :\n",
        "#   print(k, domain[k])\n"
      ],
      "metadata": {
        "id": "wY2gx4yhO673"
      },
      "execution_count": 166,
      "outputs": []
    },
    {
      "cell_type": "code",
      "source": [
        "# backtracking\n",
        "# select an entry where domain has size > 1\n",
        "# make a choice\n",
        "# forward propagate\n",
        "# if a domain becomes empty, backtrack\n",
        "# if all domains are singleton, declare game over\n",
        "\n",
        "import copy\n",
        "import random\n",
        "def backtrack(domain_copy):\n",
        "  # look for an undecided variable\n",
        "  k =  random.choice ( [ k1 for k1 in domain_copy.keys() if len(domain_copy[k1]) > 1 ] )\n",
        "\n",
        "  for v in domain_copy[k]:\n",
        "    # make a choice\n",
        "    domain_copy1 = copy.deepcopy(domain_copy)\n",
        "    domain_copy1[k] = set([v])\n",
        "    forward_propagate(domain_copy1)\n",
        "\n",
        "    # what is the outcome of this choice\n",
        "    # 1: failure -- check if domain_copy has an empty domain\n",
        "    empty = False\n",
        "    for k1 in domain_copy1.keys():\n",
        "      if len(domain_copy1[k1]) == 0:\n",
        "        empty = True\n",
        "        break\n",
        "    if empty:\n",
        "      continue # move to the next choice\n",
        "\n",
        "    # 2: success -- check if all domains are singleton\n",
        "    else:\n",
        "      for k1 in domain_copy1.keys():\n",
        "        if len(domain_copy1[k1]) > 1:\n",
        "          break\n",
        "      else:\n",
        "        return (True, domain_copy1)\n",
        "    # 3: not yet -- go to a new decision variable\n",
        "    (status, sol) = backtrack(domain_copy1)\n",
        "    # if going forward not working\n",
        "    if status:\n",
        "      return (status, sol)\n",
        "    else:\n",
        "      continue\n",
        "      # return backtrack(domain_copy) # try another variable to start with\n",
        "  return False, {}\n",
        "\n",
        "domain_copy = copy.deepcopy(domain)\n",
        "status, sol = backtrack(domain_copy)\n",
        "\n",
        "\n",
        "for k in sorted ( sol.keys() ) :\n",
        "  # print(k, sol[k])\n",
        "  if board[k] == -1:\n",
        "    sol[(k[0], k[1])] = sol[k]\n"
      ],
      "metadata": {
        "id": "PRgHR4zDUY_7"
      },
      "execution_count": 167,
      "outputs": []
    },
    {
      "cell_type": "code",
      "source": [
        "# plot the solution\n",
        "\n",
        "import cv2\n",
        "from matplotlib import pyplot as plt\n",
        "\n",
        "# img_color = cv2.imread('board216.png')\n",
        "img_color = cv2.imread('board230.png')\n",
        "plt.imshow(img_color)\n",
        "plt.axis(\"off\")\n",
        "\n",
        "for x in range(nb_rows):\n",
        "  for y in range(nb_cols):\n",
        "    if (x,y) in sol.keys():\n",
        "      # for #216\n",
        "      # plt.text(100 + 210 * y , 270 + 210 * x, list(sol[(x,y)])[0], color=\"red\", fontsize=16)\n",
        "      # for #230\n",
        "      plt.text(100 + 180 * y , 270 + 190 * x, list(sol[(x,y)])[0], color=\"red\", fontsize=16)\n",
        "      # we need to normalize the image dimensions\n",
        "\n",
        "plt.show()"
      ],
      "metadata": {
        "colab": {
          "base_uri": "https://localhost:8080/",
          "height": 406
        },
        "id": "9oTOOk1HuA-c",
        "outputId": "d1465187-b778-4e2b-a7f4-88340fa8b1c7"
      },
      "execution_count": 168,
      "outputs": [
        {
          "output_type": "display_data",
          "data": {
            "text/plain": [
              "<Figure size 640x480 with 1 Axes>"
            ],
            "image/png": "[encoded data removed]"
          },
          "metadata": {}
        }
      ]
    }
  ]
}